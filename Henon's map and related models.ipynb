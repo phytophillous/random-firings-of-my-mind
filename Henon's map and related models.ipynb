{
 "cells": [
  {
   "cell_type": "code",
   "execution_count": 1,
   "metadata": {},
   "outputs": [
    {
     "data": {
      "application/vnd.jupyter.widget-view+json": {
       "model_id": "4dd63ee7d8414b02ab71982bbb8d289c",
       "version_major": 2,
       "version_minor": 0
      },
      "text/plain": [
       "interactive(children=(FloatSlider(value=1.4, description='a', max=1.5, min=1.0, step=0.01), FloatSlider(value=…"
      ]
     },
     "metadata": {},
     "output_type": "display_data"
    },
    {
     "data": {
      "text/plain": [
       "<function __main__.henon_map_plot(a=1.4, b=0.3)>"
      ]
     },
     "execution_count": 1,
     "metadata": {},
     "output_type": "execute_result"
    }
   ],
   "source": [
    "import numpy as np\n",
    "import matplotlib.pyplot as plt\n",
    "from ipywidgets import interact, FloatSlider\n",
    "\n",
    "def henon_map_plot(a=1.4, b=0.3):\n",
    "    n = 100000\n",
    "    x = np.zeros(n)\n",
    "    y = np.zeros(n)\n",
    "    x[0], y[0] = 0.1, 0.0\n",
    "\n",
    "    for i in range(1, n):\n",
    "        x[i] = 1 - a * x[i - 1]**2 + y[i - 1]\n",
    "        y[i] = b * x[i - 1]\n",
    "\n",
    "    plt.figure(figsize=(8, 8))\n",
    "    plt.plot(x[1000:], y[1000:], ',k', alpha=0.4)\n",
    "    plt.title(f\"Hénon Attractor (a={a:.2f}, b={b:.2f})\", fontsize=16, color='darkblue')\n",
    "    plt.axis('equal')\n",
    "    plt.xticks([])\n",
    "    plt.yticks([])\n",
    "    plt.grid(False)\n",
    "    plt.show()\n",
    "\n",
    "# ویجت‌های تعاملی برای تنظیم a و b\n",
    "interact(\n",
    "    henon_map_plot,\n",
    "    a=FloatSlider(min=1.0, max=1.5, step=0.01, value=1.4, description='a'),\n",
    "    b=FloatSlider(min=0.1, max=0.4, step=0.01, value=0.3, description='b')\n",
    ")\n"
   ]
  },
  {
   "cell_type": "code",
   "execution_count": 5,
   "metadata": {},
   "outputs": [
    {
     "data": {
      "application/vnd.jupyter.widget-view+json": {
       "model_id": "02f4f406ecfd41839cdf35d13b36c1c6",
       "version_major": 2,
       "version_minor": 0
      },
      "text/plain": [
       "interactive(children=(FloatSlider(value=4.1, description='α', max=5.0, min=3.5, step=0.01), FloatSlider(value=…"
      ]
     },
     "metadata": {},
     "output_type": "display_data"
    },
    {
     "data": {
      "text/plain": [
       "<function __main__.rulkov_map(alpha=4.1, mu=0.001, sigma=-1.0)>"
      ]
     },
     "execution_count": 5,
     "metadata": {},
     "output_type": "execute_result"
    }
   ],
   "source": [
    "# کد تعاملی مدل Rulkov برای نورون\n",
    "import numpy as np\n",
    "import matplotlib.pyplot as plt\n",
    "from ipywidgets import interact, FloatSlider\n",
    "\n",
    "def rulkov_map(alpha=4.1, mu=0.001, sigma=-1.0):\n",
    "    n = 10000  # تعداد تکرار\n",
    "    x = np.zeros(n)\n",
    "    y = np.zeros(n)\n",
    "    x[0], y[0] = -1.0, -2.0  # مقدار اولیه\n",
    "\n",
    "    for i in range(1, n):\n",
    "        x[i] = alpha / (1 + x[i-1]**2) + y[i-1]\n",
    "        y[i] = y[i-1] - mu * (x[i-1] - sigma)\n",
    "\n",
    "    # رسم نمودار\n",
    "    plt.figure(figsize=(12, 5))\n",
    "    plt.plot(x[1000:], label=\"x (شلیک نورونی)\", color='darkviolet')\n",
    "    plt.title(f\"مدل نورون Rulkov — α={alpha}, μ={mu}, σ={sigma}\", fontsize=14)\n",
    "    plt.xlabel(\"زمان (n)\")\n",
    "    plt.ylabel(\"پتانسیل نورون (x)\")\n",
    "    plt.grid(True)\n",
    "    plt.legend()\n",
    "    plt.tight_layout()\n",
    "    plt.show()\n",
    "\n",
    "# ابزار تعاملی با ipywidgets\n",
    "interact(\n",
    "    rulkov_map,\n",
    "    alpha=FloatSlider(min=3.5, max=5.0, step=0.01, value=4.1, description='α'),\n",
    "    mu=FloatSlider(min=0.0001, max=0.01, step=0.0005, value=0.001, description='μ'),\n",
    "    sigma=FloatSlider(min=-2.0, max=0.0, step=0.05, value=-1.0, description='σ')\n",
    ")\n"
   ]
  },
  {
   "cell_type": "code",
   "execution_count": 6,
   "metadata": {},
   "outputs": [
    {
     "data": {
      "application/vnd.jupyter.widget-view+json": {
       "model_id": "94b1f40100b14d35886215ddb0a0882e",
       "version_major": 2,
       "version_minor": 0
      },
      "text/plain": [
       "interactive(children=(FloatSlider(value=4.1, description='α', max=5.0, min=3.5, step=0.01), FloatSlider(value=…"
      ]
     },
     "metadata": {},
     "output_type": "display_data"
    },
    {
     "data": {
      "text/plain": [
       "<function __main__.rulkov_map(alpha=4.1, mu=0.001, sigma=-1.0)>"
      ]
     },
     "execution_count": 6,
     "metadata": {},
     "output_type": "execute_result"
    }
   ],
   "source": [
    "# مدل Rulkov برای نورون با رسم تعاملی و نمودار فاز\n",
    "\n",
    "import numpy as np\n",
    "import matplotlib.pyplot as plt\n",
    "from ipywidgets import interact, FloatSlider\n",
    "\n",
    "def rulkov_map(alpha=4.1, mu=0.001, sigma=-1.0):\n",
    "    n = 10000\n",
    "    x = np.zeros(n)\n",
    "    y = np.zeros(n)\n",
    "    x[0], y[0] = -1.0, -2.0\n",
    "\n",
    "    for i in range(1, n):\n",
    "        x[i] = alpha / (1 + x[i-1]**2) + y[i-1]\n",
    "        y[i] = y[i-1] - mu * (x[i-1] - sigma)\n",
    "\n",
    "    # رسم نمودار پتانسیل نورون (x)\n",
    "    plt.figure(figsize=(14, 6))\n",
    "\n",
    "    plt.subplot(1, 2, 1)\n",
    "    plt.plot(x[1000:], color='darkred')\n",
    "    plt.title(f\"پتانسیل نورون (x) — α={alpha}, μ={mu}, σ={sigma}\")\n",
    "    plt.xlabel(\"زمان (n)\")\n",
    "    plt.ylabel(\"x (پتانسیل)\")\n",
    "    plt.grid(True)\n",
    "\n",
    "    # رسم نمودار فاز (x,y)\n",
    "    plt.subplot(1, 2, 2)\n",
    "    plt.plot(x[1000:], y[1000:], lw=0.5)\n",
    "    plt.title(\"نمودار فاز (x vs y)\")\n",
    "    plt.xlabel(\"x (پتانسیل)\")\n",
    "    plt.ylabel(\"y (متغیر بازیابی)\")\n",
    "    plt.grid(True)\n",
    "\n",
    "    plt.tight_layout()\n",
    "    plt.show()\n",
    "\n",
    "interact(\n",
    "    rulkov_map,\n",
    "    alpha=FloatSlider(min=3.5, max=5.0, step=0.01, value=4.1, description='α'),\n",
    "    mu=FloatSlider(min=0.0001, max=0.01, step=0.0005, value=0.001, description='μ'),\n",
    "    sigma=FloatSlider(min=-2.0, max=0.0, step=0.05, value=-1.0, description='σ')\n",
    ")\n"
   ]
  },
  {
   "cell_type": "code",
   "execution_count": 7,
   "metadata": {},
   "outputs": [
    {
     "data": {
      "application/vnd.jupyter.widget-view+json": {
       "model_id": "0a4f23c9409e4ee58a12ac80b27f2c26",
       "version_major": 2,
       "version_minor": 0
      },
      "text/plain": [
       "interactive(children=(FloatSlider(value=4.1, description='α', max=5.0, min=3.5, step=0.01), FloatSlider(value=…"
      ]
     },
     "metadata": {},
     "output_type": "display_data"
    },
    {
     "data": {
      "text/plain": [
       "<function __main__.plot_rulkov_and_lyap(alpha=4.1, mu=0.001, sigma=-1.0)>"
      ]
     },
     "execution_count": 7,
     "metadata": {},
     "output_type": "execute_result"
    }
   ],
   "source": [
    "import numpy as np\n",
    "import matplotlib.pyplot as plt\n",
    "from ipywidgets import interact, FloatSlider\n",
    "\n",
    "def rulkov_map(alpha=4.1, mu=0.001, sigma=-1.0):\n",
    "    n = 10000\n",
    "    x = np.zeros(n)\n",
    "    y = np.zeros(n)\n",
    "    x[0], y[0] = -1.0, -2.0\n",
    "\n",
    "    for i in range(1, n):\n",
    "        x[i] = alpha / (1 + x[i-1]**2) + y[i-1]\n",
    "        y[i] = y[i-1] - mu * (x[i-1] - sigma)\n",
    "\n",
    "    return x, y\n",
    "\n",
    "def lyapunov_exponent(x, y, alpha, mu, sigma):\n",
    "    n = len(x)\n",
    "    delta = 1e-8\n",
    "    lyap_sum = 0\n",
    "    for i in range(n-1):\n",
    "        # محاسبه ژاکوبین مدل (ماتریس مشتقات جزئی)\n",
    "        dx_dx = (-2*alpha*x[i]) / ((1 + x[i]**2)**2)\n",
    "        dx_dy = 1\n",
    "        dy_dx = -mu\n",
    "        dy_dy = 1\n",
    "\n",
    "        # ماتریس ژاکوبین\n",
    "        J = np.array([[dx_dx, dx_dy],\n",
    "                      [dy_dx, dy_dy]])\n",
    "\n",
    "        # بردار جهت اولیه کوچک\n",
    "        v = np.array([1.0, 0.0])\n",
    "        v = J @ v\n",
    "        norm_v = np.linalg.norm(v)\n",
    "\n",
    "        lyap_sum += np.log(abs(norm_v) + 1e-12)  # جلوگیری از لگاریتم صفر\n",
    "\n",
    "    return lyap_sum / (n-1)\n",
    "\n",
    "def plot_rulkov_and_lyap(alpha=4.1, mu=0.001, sigma=-1.0):\n",
    "    x, y = rulkov_map(alpha, mu, sigma)\n",
    "\n",
    "    lyap = lyapunov_exponent(x, y, alpha, mu, sigma)\n",
    "    lyap_text = f\"Lyapunov Exponent ≈ {lyap:.5f}\"\n",
    "    chaos_status = \"Chaos\" if lyap > 0 else \"Non-chaotic\"\n",
    "\n",
    "    plt.figure(figsize=(16, 6))\n",
    "\n",
    "    plt.subplot(1, 3, 1)\n",
    "    plt.plot(x[1000:], color='darkred')\n",
    "    plt.title(f\"پتانسیل نورون (x)\\nα={alpha}, μ={mu}, σ={sigma}\")\n",
    "    plt.xlabel(\"زمان (n)\")\n",
    "    plt.ylabel(\"x (پتانسیل)\")\n",
    "    plt.grid(True)\n",
    "\n",
    "    plt.subplot(1, 3, 2)\n",
    "    plt.plot(x[1000:], y[1000:], lw=0.5)\n",
    "    plt.title(\"نمودار فاز (x vs y)\")\n",
    "    plt.xlabel(\"x (پتانسیل)\")\n",
    "    plt.ylabel(\"y (متغیر بازیابی)\")\n",
    "    plt.grid(True)\n",
    "\n",
    "    plt.subplot(1, 3, 3)\n",
    "    plt.text(0.1, 0.6, lyap_text, fontsize=16)\n",
    "    plt.text(0.1, 0.4, chaos_status, fontsize=16, color='red' if lyap > 0 else 'green')\n",
    "    plt.axis('off')\n",
    "\n",
    "    plt.tight_layout()\n",
    "    plt.show()\n",
    "\n",
    "interact(\n",
    "    plot_rulkov_and_lyap,\n",
    "    alpha=FloatSlider(min=3.5, max=5.0, step=0.01, value=4.1, description='α'),\n",
    "    mu=FloatSlider(min=0.0001, max=0.01, step=0.0005, value=0.001, description='μ'),\n",
    "    sigma=FloatSlider(min=-2.0, max=0.0, step=0.05, value=-1.0, description='σ')\n",
    ")\n"
   ]
  },
  {
   "cell_type": "code",
   "execution_count": 8,
   "metadata": {},
   "outputs": [
    {
     "data": {
      "application/vnd.jupyter.widget-view+json": {
       "model_id": "f324e8f5c976491da98afa19de12b402",
       "version_major": 2,
       "version_minor": 0
      },
      "text/plain": [
       "interactive(children=(FloatSlider(value=4.1, description='α', max=5.0, min=3.5, step=0.01), FloatSlider(value=…"
      ]
     },
     "metadata": {},
     "output_type": "display_data"
    },
    {
     "data": {
      "text/plain": [
       "<function __main__.plot_rulkov_and_lyap(alpha=4.1, mu=0.001, sigma=-1.0)>"
      ]
     },
     "execution_count": 8,
     "metadata": {},
     "output_type": "execute_result"
    }
   ],
   "source": [
    "import numpy as np\n",
    "import matplotlib.pyplot as plt\n",
    "from ipywidgets import interact, FloatSlider\n",
    "\n",
    "def rulkov_map(alpha=4.1, mu=0.001, sigma=-1.0):\n",
    "    n = 10000\n",
    "    x = np.zeros(n)\n",
    "    y = np.zeros(n)\n",
    "    x[0], y[0] = -1.0, -2.0\n",
    "\n",
    "    for i in range(1, n):\n",
    "        x[i] = alpha / (1 + x[i-1]**2) + y[i-1]\n",
    "        y[i] = y[i-1] - mu * (x[i-1] - sigma)\n",
    "\n",
    "    return x, y\n",
    "\n",
    "def lyapunov_exponent(x, y, alpha, mu, sigma):\n",
    "    n = len(x)\n",
    "    lyap_sum = 0\n",
    "    for i in range(n-1):\n",
    "        dx_dx = (-2*alpha*x[i]) / ((1 + x[i]**2)**2)\n",
    "        dx_dy = 1\n",
    "        dy_dx = -mu\n",
    "        dy_dy = 1\n",
    "\n",
    "        J = np.array([[dx_dx, dx_dy],\n",
    "                      [dy_dx, dy_dy]])\n",
    "\n",
    "        v = np.array([1.0, 0.0])\n",
    "        v = J @ v\n",
    "        norm_v = np.linalg.norm(v)\n",
    "\n",
    "        lyap_sum += np.log(abs(norm_v) + 1e-12)\n",
    "\n",
    "    return lyap_sum / (n-1)\n",
    "\n",
    "def plot_rulkov_and_lyap(alpha=4.1, mu=0.001, sigma=-1.0):\n",
    "    x, y = rulkov_map(alpha, mu, sigma)\n",
    "\n",
    "    lyap = lyapunov_exponent(x, y, alpha, mu, sigma)\n",
    "    lyap_text = f\"Lyapunov Exponent ≈ {lyap:.5f}\"\n",
    "    chaos_status = \"Chaos\" if lyap > 0 else \"Non-chaotic\"\n",
    "\n",
    "    plt.figure(figsize=(16, 6))\n",
    "\n",
    "    plt.subplot(1, 3, 1)\n",
    "    plt.plot(x[1000:], color='darkred')\n",
    "    plt.title(f\"Neuron Potential (x)\\nα={alpha}, μ={mu}, σ={sigma}\")\n",
    "    plt.xlabel(\"Time (n)\")\n",
    "    plt.ylabel(\"Potential (x)\")\n",
    "    plt.grid(True)\n",
    "\n",
    "    plt.subplot(1, 3, 2)\n",
    "    plt.plot(x[1000:], y[1000:], lw=0.5)\n",
    "    plt.title(\"Phase Plot (x vs y)\")\n",
    "    plt.xlabel(\"Potential (x)\")\n",
    "    plt.ylabel(\"Recovery Variable (y)\")\n",
    "    plt.grid(True)\n",
    "\n",
    "    plt.subplot(1, 3, 3)\n",
    "    plt.text(0.1, 0.6, lyap_text, fontsize=16)\n",
    "    plt.text(0.1, 0.4, chaos_status, fontsize=16, color='red' if lyap > 0 else 'green')\n",
    "    plt.axis('off')\n",
    "\n",
    "    plt.tight_layout()\n",
    "    plt.show()\n",
    "\n",
    "interact(\n",
    "    plot_rulkov_and_lyap,\n",
    "    alpha=FloatSlider(min=3.5, max=5.0, step=0.01, value=4.1, description='α'),\n",
    "    mu=FloatSlider(min=0.0001, max=0.01, step=0.0005, value=0.001, description='μ'),\n",
    "    sigma=FloatSlider(min=-2.0, max=0.0, step=0.05, value=-1.0, description='σ')\n",
    ")\n"
   ]
  }
 ],
 "metadata": {
  "kernelspec": {
   "display_name": "base",
   "language": "python",
   "name": "python3"
  },
  "language_info": {
   "codemirror_mode": {
    "name": "ipython",
    "version": 3
   },
   "file_extension": ".py",
   "mimetype": "text/x-python",
   "name": "python",
   "nbconvert_exporter": "python",
   "pygments_lexer": "ipython3",
   "version": "3.12.7"
  }
 },
 "nbformat": 4,
 "nbformat_minor": 2
}
